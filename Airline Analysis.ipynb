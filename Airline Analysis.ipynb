{
 "cells": [
  {
   "cell_type": "markdown",
   "metadata": {},
   "source": [
    "# Airline Analysis"
   ]
  },
  {
   "cell_type": "markdown",
   "metadata": {},
   "source": [
    "In this project, you'll imagine that you work for a travel agency and need to know the ins and outs of airline prices for your clients. You want to make sure that you can find the best deal for your client and help them to understand how airline prices change based on different factors.\n",
    "\n",
    "You decide to look into your favorite airline. The data include:\n",
    "- `miles`: miles traveled through the flight\n",
    "- `passengers`: number of passengers on the flight\n",
    "- `delay`: take-off delay in minutes\n",
    "- `inflight_meal`: is there a meal included in the flight?\n",
    "- `inflight_entertainment`: are there free entertainment systems for each seat?\n",
    "- `inflight_wifi`: is there complimentary wifi on the flight?\n",
    "- `day_of_week`: day of the week of the flight\n",
    "- `weekend`: did this flight take place on a weekend?\n",
    "- `coach_price`: the average price paid for a coach ticket\n",
    "- `firstclass_price`: the average price paid for first-class seats\n",
    "- `hours`: how many hours the flight took\n",
    "- `redeye`: was this flight a redeye (overnight)?\n",
    "\n",
    "In this project, you'll explore a dataset for the first time and get to know each of these features. Keep in mind that there's no one right way to address each of these questions. The goal is simply to explore and get to know the data using whatever methods come to mind.\n",
    "\n",
    "You will be working in this file. Note that there is the file **Airline Analysis_Solution.ipynb** that contains the solution code for this project. We highly recommend that you complete the project on your own without checking the solution, but feel free to take a look if you get stuck or if you want to compare answers when you're done.\n",
    "\n",
    "In order to get the plots to appear correctly in the notebook, you'll need to show and then clear each plot before creating the next one using the following code:\n",
    "\n",
    "```py\n",
    "plt.show() # Show the plot\n",
    "plt.clf() # Clear the plot\n",
    "```\n",
    "\n",
    "Clearing the plot will not erase the plot from view, it will just create a new space for the following graphic."
   ]
  },
  {
   "cell_type": "markdown",
   "metadata": {},
   "source": [
    "## Univariate Analysis"
   ]
  },
  {
   "cell_type": "markdown",
   "metadata": {},
   "source": [
    "1. What do coach ticket prices look like? What are the high and low values? What would be considered the average? Does $500 seem like a good price for a coach ticket?"
   ]
  },
  {
   "cell_type": "code",
   "execution_count": 9,
   "metadata": {},
   "outputs": [
    {
     "name": "stdout",
     "output_type": "stream",
     "text": [
      "   miles  passengers  delay inflight_meal inflight_entertainment  \\\n",
      "0    792         172      0            No                    Yes   \n",
      "1   3163         214      0            No                    Yes   \n",
      "2   1832         212      0            No                    Yes   \n",
      "3    925         213      0            No                    Yes   \n",
      "4    967         217      0           Yes                    Yes   \n",
      "\n",
      "  inflight_wifi day_of_week redeye weekend  coach_price  firstclass_price  \\\n",
      "0           Yes      Sunday    Yes     Yes      338.820           1571.02   \n",
      "1           Yes      Sunday     No     Yes      472.655           1663.70   \n",
      "2            No      Friday     No     Yes      351.960           1429.86   \n",
      "3           Yes    Saturday     No     Yes      387.835           1558.76   \n",
      "4           Yes      Monday     No      No      374.735           1245.58   \n",
      "\n",
      "   hours  \n",
      "0      1  \n",
      "1      6  \n",
      "2      3  \n",
      "3      2  \n",
      "4      2  \n",
      "               miles     passengers          delay    coach_price  \\\n",
      "count  129780.000000  129780.000000  129780.000000  129780.000000   \n",
      "mean     2006.224696     207.723155      13.162845     376.585253   \n",
      "std       943.034768      12.776363      41.941680      67.744274   \n",
      "min        12.000000     135.000000       0.000000      44.415000   \n",
      "25%      1343.000000     204.000000       9.000000     331.445000   \n",
      "50%      1986.000000     210.000000      10.000000     380.560000   \n",
      "75%      2468.000000     215.000000      13.000000     426.676250   \n",
      "max      4548.000000     244.000000    1560.000000     593.635000   \n",
      "\n",
      "       firstclass_price          hours  \n",
      "count     129780.000000  129780.000000  \n",
      "mean        1454.931785       3.631214  \n",
      "std          162.590434       1.739118  \n",
      "min          939.100000       1.000000  \n",
      "25%         1302.200000       2.000000  \n",
      "50%         1503.840000       4.000000  \n",
      "75%         1582.370000       4.000000  \n",
      "max         1846.780000       8.000000  \n"
     ]
    },
    {
     "data": {
      "image/png": "[encoded data removed]",
      "text/plain": [
       "<Figure size 432x288 with 1 Axes>"
      ]
     },
     "metadata": {
      "needs_background": "light"
     },
     "output_type": "display_data"
    },
    {
     "data": {
      "text/plain": [
       "<Figure size 432x288 with 0 Axes>"
      ]
     },
     "metadata": {},
     "output_type": "display_data"
    }
   ],
   "source": [
    "import pandas as pd\n",
    "import numpy as np\n",
    "import seaborn as sns\n",
    "import statsmodels\n",
    "import matplotlib.pyplot as plt\n",
    "import math\n",
    "\n",
    "## Read in Data\n",
    "flight = pd.read_csv(\"flight.csv\")\n",
    "print(flight.head())\n",
    "\n",
    "## Task 1\n",
    "#print(flight.info())\n",
    "print(flight.describe())\n",
    "sns.histplot(flight.coach_price)\n",
    "plt.show()\n",
    "plt.clf()\n"
   ]
  },
  {
   "cell_type": "markdown",
   "metadata": {},
   "source": [
    "From above I can see that the minimum, maximum, and average coach prices are (in dollars) 44.42, 593.64, and 376.59, respectively. For first class tickets the minimum, maximum, and average prices are 939.1, 1846.78, and 1454.93, respectively. $500 seems like an expensive price for a coach ticket because it is in the top quartile of coach prices, as well as nearly two standard deviations from the mean. "
   ]
  },
  {
   "cell_type": "markdown",
   "metadata": {},
   "source": [
    "2. Now visualize the coach ticket prices for flights that are 8 hours long. What are the high, low, and average prices for 8-hour-long flights? Does a $500 dollar ticket seem more reasonable than before?"
   ]
  },
  {
   "cell_type": "code",
   "execution_count": 21,
   "metadata": {},
   "outputs": [
    {
     "data": {
      "image/png": "[encoded data removed]",
      "text/plain": [
       "<Figure size 432x288 with 1 Axes>"
      ]
     },
     "metadata": {
      "needs_background": "light"
     },
     "output_type": "display_data"
    },
    {
     "name": "stdout",
     "output_type": "stream",
     "text": [
      "The mean ticket price is $431.8343773728164 and is indicated by the red line, maximum is $593.635, minimum is $170.77.\n"
     ]
    },
    {
     "data": {
      "text/plain": [
       "<Figure size 432x288 with 0 Axes>"
      ]
     },
     "metadata": {},
     "output_type": "display_data"
    }
   ],
   "source": [
    "## Task 2\n",
    "flights_8hours = flight[flight.hours == 8]\n",
    "sns.histplot(flights_8hours.coach_price)\n",
    "plt.axvline(flights_8hours.coach_price.mean(), color='red', label='Mean ticket price')\n",
    "plt.show()\n",
    "plt.clf()\n",
    "print(f'The mean ticket price is ${flights_8hours.coach_price.mean()} and is indicated by the red line, maximum is ${flights_8hours.coach_price.max()}, minimum is ${flights_8hours.coach_price.min()}.')\n"
   ]
  },
  {
   "cell_type": "markdown",
   "metadata": {},
   "source": [
    "When concerned with 8 hour flights, $500 coach tickets seem much more reasonable."
   ]
  },
  {
   "cell_type": "markdown",
   "metadata": {},
   "source": [
    "3. How are flight delay times distributed? Let's say there is a short amount of time between two connecting flights, and a flight delay would put the client at risk of missing their connecting flight. You want to better understand how often there are large delays so you can correctly set up connecting flights. What kinds of delays are typical?"
   ]
  },
  {
   "cell_type": "code",
   "execution_count": 30,
   "metadata": {},
   "outputs": [
    {
     "name": "stdout",
     "output_type": "stream",
     "text": [
      "1560\n"
     ]
    },
    {
     "data": {
      "text/plain": [
       "<AxesSubplot:xlabel='delay'>"
      ]
     },
     "execution_count": 30,
     "metadata": {},
     "output_type": "execute_result"
    },
    {
     "data": {
      "image/png": "[encoded data removed]",
      "text/plain": [
       "<Figure size 432x288 with 1 Axes>"
      ]
     },
     "metadata": {
      "needs_background": "light"
     },
     "output_type": "display_data"
    }
   ],
   "source": [
    "## Task 3\n",
    "print(flight.delay.max())\n",
    "sns.boxplot(x=flight.delay)\n"
   ]
  },
  {
   "cell_type": "code",
   "execution_count": 34,
   "metadata": {},
   "outputs": [
    {
     "name": "stdout",
     "output_type": "stream",
     "text": [
      "Delay times longer than 400 minutes are considered outliers.\n",
      "Median delay time is 10.0.\n"
     ]
    },
    {
     "data": {
      "image/png": "[encoded data removed]",
      "text/plain": [
       "<Figure size 432x288 with 1 Axes>"
      ]
     },
     "metadata": {
      "needs_background": "light"
     },
     "output_type": "display_data"
    }
   ],
   "source": [
    "print('Delay times longer than 400 minutes are considered outliers.')\n",
    "sns.histplot(flight.delay[flight.delay <= 400])\n",
    "print(f'Median delay time is {flight.delay.median()}.')"
   ]
  },
  {
   "cell_type": "markdown",
   "metadata": {},
   "source": [
    "## Bivariate Analysis"
   ]
  },
  {
   "cell_type": "markdown",
   "metadata": {},
   "source": [
    "4. Create a visualization that shows the relationship between coach and first-class prices. What is the relationship between these two prices? Do flights with higher coach prices always have higher first-class prices as well?"
   ]
  },
  {
   "cell_type": "code",
   "execution_count": 5,
   "metadata": {},
   "outputs": [],
   "source": [
    "## Task 4\n",
    "\n"
   ]
  },
  {
   "cell_type": "markdown",
   "metadata": {},
   "source": [
    "5. What is the relationship between coach prices and inflight features &mdash; inflight meal, inflight entertainment, and inflight WiFi? Which features are associated with the highest increase in price?"
   ]
  },
  {
   "cell_type": "code",
   "execution_count": 6,
   "metadata": {},
   "outputs": [],
   "source": [
    "## Task 5\n",
    "\n"
   ]
  },
  {
   "cell_type": "markdown",
   "metadata": {},
   "source": [
    "6. How does the number of passengers change in relation to the length of flights?"
   ]
  },
  {
   "cell_type": "code",
   "execution_count": 7,
   "metadata": {},
   "outputs": [],
   "source": [
    "## Task 6\n",
    "\n"
   ]
  },
  {
   "cell_type": "markdown",
   "metadata": {},
   "source": [
    "## Multivariate Analysis"
   ]
  },
  {
   "cell_type": "markdown",
   "metadata": {},
   "source": [
    "7. Visualize the relationship between coach and first-class prices on weekends compared to weekdays."
   ]
  },
  {
   "cell_type": "code",
   "execution_count": 8,
   "metadata": {},
   "outputs": [],
   "source": [
    "## Task 7\n",
    "\n"
   ]
  },
  {
   "cell_type": "markdown",
   "metadata": {},
   "source": [
    "8. How do coach prices differ for redeyes and non-redeyes on each day of the week?"
   ]
  },
  {
   "cell_type": "code",
   "execution_count": 9,
   "metadata": {},
   "outputs": [],
   "source": [
    "## Task 8\n",
    "\n",
    "\n",
    "\n",
    "\n"
   ]
  },
  {
   "cell_type": "code",
   "execution_count": null,
   "metadata": {},
   "outputs": [],
   "source": []
  }
 ],
 "metadata": {
  "kernelspec": {
   "display_name": "Python 3 (ipykernel)",
   "language": "python",
   "name": "python3"
  },
  "language_info": {
   "codemirror_mode": {
    "name": "ipython",
    "version": 3
   },
   "file_extension": ".py",
   "mimetype": "text/x-python",
   "name": "python",
   "nbconvert_exporter": "python",
   "pygments_lexer": "ipython3",
   "version": "3.8.8"
  }
 },
 "nbformat": 4,
 "nbformat_minor": 2
}
